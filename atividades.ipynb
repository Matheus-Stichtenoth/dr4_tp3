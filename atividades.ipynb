{
 "cells": [
  {
   "cell_type": "code",
   "execution_count": 1,
   "metadata": {},
   "outputs": [],
   "source": [
    "import pandas as pd\n",
    "from plotly import express as px\n",
    "import json\n",
    "import nbformat\n",
    "import tiktoken\n",
    "import os\n",
    "from dotenv import load_dotenv"
   ]
  },
  {
   "cell_type": "markdown",
   "metadata": {},
   "source": [
    "# Exercício 4:"
   ]
  },
  {
   "cell_type": "code",
   "execution_count": 4,
   "metadata": {},
   "outputs": [
    {
     "name": "stderr",
     "output_type": "stream",
     "text": [
      "<>:1: SyntaxWarning: invalid escape sequence '\\m'\n",
      "<>:1: SyntaxWarning: invalid escape sequence '\\m'\n",
      "C:\\Users\\Matheus\\AppData\\Local\\Temp\\ipykernel_27312\\1120884369.py:1: SyntaxWarning: invalid escape sequence '\\m'\n",
      "  df = pd.read_json('data\\manchetes_categorizadas.json')\n"
     ]
    },
    {
     "data": {
      "text/html": [
       "<div>\n",
       "<style scoped>\n",
       "    .dataframe tbody tr th:only-of-type {\n",
       "        vertical-align: middle;\n",
       "    }\n",
       "\n",
       "    .dataframe tbody tr th {\n",
       "        vertical-align: top;\n",
       "    }\n",
       "\n",
       "    .dataframe thead th {\n",
       "        text-align: right;\n",
       "    }\n",
       "</style>\n",
       "<table border=\"1\" class=\"dataframe\">\n",
       "  <thead>\n",
       "    <tr style=\"text-align: right;\">\n",
       "      <th></th>\n",
       "      <th>manchete</th>\n",
       "      <th>categoria</th>\n",
       "    </tr>\n",
       "  </thead>\n",
       "  <tbody>\n",
       "    <tr>\n",
       "      <th>0</th>\n",
       "      <td>O Brasil atingiu a marca de 62,5 milhões de co...</td>\n",
       "      <td>Neutra</td>\n",
       "    </tr>\n",
       "    <tr>\n",
       "      <th>1</th>\n",
       "      <td>O valor médio de cada dívida dos brasileiros c...</td>\n",
       "      <td>Neutra</td>\n",
       "    </tr>\n",
       "    <tr>\n",
       "      <th>2</th>\n",
       "      <td>Entre os brasileiros inadimplentes, cada um de...</td>\n",
       "      <td>Neutra</td>\n",
       "    </tr>\n",
       "    <tr>\n",
       "      <th>3</th>\n",
       "      <td>Dívidas com bancos e cartões de crédito aparec...</td>\n",
       "      <td>Neutra</td>\n",
       "    </tr>\n",
       "    <tr>\n",
       "      <th>4</th>\n",
       "      <td>O valor total das dívidas dos brasileiros inad...</td>\n",
       "      <td>Neutra</td>\n",
       "    </tr>\n",
       "  </tbody>\n",
       "</table>\n",
       "</div>"
      ],
      "text/plain": [
       "                                            manchete categoria\n",
       "0  O Brasil atingiu a marca de 62,5 milhões de co...    Neutra\n",
       "1  O valor médio de cada dívida dos brasileiros c...    Neutra\n",
       "2  Entre os brasileiros inadimplentes, cada um de...    Neutra\n",
       "3  Dívidas com bancos e cartões de crédito aparec...    Neutra\n",
       "4  O valor total das dívidas dos brasileiros inad...    Neutra"
      ]
     },
     "execution_count": 4,
     "metadata": {},
     "output_type": "execute_result"
    }
   ],
   "source": [
    "df = pd.read_json('data\\manchetes_categorizadas.json')\n",
    "\n",
    "df.head()"
   ]
  },
  {
   "cell_type": "code",
   "execution_count": 85,
   "metadata": {},
   "outputs": [
    {
     "ename": "ValueError",
     "evalue": "Mime type rendering requires nbformat>=4.2.0 but it is not installed",
     "output_type": "error",
     "traceback": [
      "\u001b[1;31m---------------------------------------------------------------------------\u001b[0m",
      "\u001b[1;31mValueError\u001b[0m                                Traceback (most recent call last)",
      "File \u001b[1;32md:\\oitavo_trimestre_infnet\\dr4_tp3\\Lib\\site-packages\\IPython\\core\\formatters.py:925\u001b[0m, in \u001b[0;36mIPythonDisplayFormatter.__call__\u001b[1;34m(self, obj)\u001b[0m\n\u001b[0;32m    923\u001b[0m method \u001b[38;5;241m=\u001b[39m get_real_method(obj, \u001b[38;5;28mself\u001b[39m\u001b[38;5;241m.\u001b[39mprint_method)\n\u001b[0;32m    924\u001b[0m \u001b[38;5;28;01mif\u001b[39;00m method \u001b[38;5;129;01mis\u001b[39;00m \u001b[38;5;129;01mnot\u001b[39;00m \u001b[38;5;28;01mNone\u001b[39;00m:\n\u001b[1;32m--> 925\u001b[0m     \u001b[43mmethod\u001b[49m\u001b[43m(\u001b[49m\u001b[43m)\u001b[49m\n\u001b[0;32m    926\u001b[0m     \u001b[38;5;28;01mreturn\u001b[39;00m \u001b[38;5;28;01mTrue\u001b[39;00m\n",
      "File \u001b[1;32md:\\oitavo_trimestre_infnet\\dr4_tp3\\Lib\\site-packages\\plotly\\basedatatypes.py:832\u001b[0m, in \u001b[0;36mBaseFigure._ipython_display_\u001b[1;34m(self)\u001b[0m\n\u001b[0;32m    829\u001b[0m \u001b[38;5;28;01mimport\u001b[39;00m \u001b[38;5;21;01mplotly\u001b[39;00m\u001b[38;5;21;01m.\u001b[39;00m\u001b[38;5;21;01mio\u001b[39;00m \u001b[38;5;28;01mas\u001b[39;00m \u001b[38;5;21;01mpio\u001b[39;00m\n\u001b[0;32m    831\u001b[0m \u001b[38;5;28;01mif\u001b[39;00m pio\u001b[38;5;241m.\u001b[39mrenderers\u001b[38;5;241m.\u001b[39mrender_on_display \u001b[38;5;129;01mand\u001b[39;00m pio\u001b[38;5;241m.\u001b[39mrenderers\u001b[38;5;241m.\u001b[39mdefault:\n\u001b[1;32m--> 832\u001b[0m     \u001b[43mpio\u001b[49m\u001b[38;5;241;43m.\u001b[39;49m\u001b[43mshow\u001b[49m\u001b[43m(\u001b[49m\u001b[38;5;28;43mself\u001b[39;49m\u001b[43m)\u001b[49m\n\u001b[0;32m    833\u001b[0m \u001b[38;5;28;01melse\u001b[39;00m:\n\u001b[0;32m    834\u001b[0m     \u001b[38;5;28mprint\u001b[39m(\u001b[38;5;28mrepr\u001b[39m(\u001b[38;5;28mself\u001b[39m))\n",
      "File \u001b[1;32md:\\oitavo_trimestre_infnet\\dr4_tp3\\Lib\\site-packages\\plotly\\io\\_renderers.py:394\u001b[0m, in \u001b[0;36mshow\u001b[1;34m(fig, renderer, validate, **kwargs)\u001b[0m\n\u001b[0;32m    389\u001b[0m         \u001b[38;5;28;01mraise\u001b[39;00m \u001b[38;5;167;01mValueError\u001b[39;00m(\n\u001b[0;32m    390\u001b[0m             \u001b[38;5;124m\"\u001b[39m\u001b[38;5;124mMime type rendering requires ipython but it is not installed\u001b[39m\u001b[38;5;124m\"\u001b[39m\n\u001b[0;32m    391\u001b[0m         )\n\u001b[0;32m    393\u001b[0m     \u001b[38;5;28;01mif\u001b[39;00m \u001b[38;5;129;01mnot\u001b[39;00m nbformat \u001b[38;5;129;01mor\u001b[39;00m Version(nbformat\u001b[38;5;241m.\u001b[39m__version__) \u001b[38;5;241m<\u001b[39m Version(\u001b[38;5;124m\"\u001b[39m\u001b[38;5;124m4.2.0\u001b[39m\u001b[38;5;124m\"\u001b[39m):\n\u001b[1;32m--> 394\u001b[0m         \u001b[38;5;28;01mraise\u001b[39;00m \u001b[38;5;167;01mValueError\u001b[39;00m(\n\u001b[0;32m    395\u001b[0m             \u001b[38;5;124m\"\u001b[39m\u001b[38;5;124mMime type rendering requires nbformat>=4.2.0 but it is not installed\u001b[39m\u001b[38;5;124m\"\u001b[39m\n\u001b[0;32m    396\u001b[0m         )\n\u001b[0;32m    398\u001b[0m     ipython_display\u001b[38;5;241m.\u001b[39mdisplay(bundle, raw\u001b[38;5;241m=\u001b[39m\u001b[38;5;28;01mTrue\u001b[39;00m)\n\u001b[0;32m    400\u001b[0m \u001b[38;5;66;03m# external renderers\u001b[39;00m\n",
      "\u001b[1;31mValueError\u001b[0m: Mime type rendering requires nbformat>=4.2.0 but it is not installed"
     ]
    },
    {
     "data": {
      "application/vnd.plotly.v1+json": {
       "config": {
        "plotlyServerURL": "https://plot.ly"
       },
       "data": [
        {
         "alignmentgroup": "True",
         "hovertemplate": "manchete=%{x}<br>categoria=%{y}<extra></extra>",
         "legendgroup": "",
         "marker": {
          "color": "#636efa",
          "pattern": {
           "shape": ""
          }
         },
         "name": "",
         "offsetgroup": "",
         "orientation": "h",
         "showlegend": false,
         "textposition": "auto",
         "texttemplate": "%{x}",
         "type": "bar",
         "x": [
          11,
          112,
          1
         ],
         "xaxis": "x",
         "y": [
          "Negativa",
          "Neutra",
          "Positiva"
         ],
         "yaxis": "y"
        }
       ],
       "layout": {
        "barmode": "relative",
        "legend": {
         "tracegroupgap": 0
        },
        "template": {
         "data": {
          "bar": [
           {
            "error_x": {
             "color": "#2a3f5f"
            },
            "error_y": {
             "color": "#2a3f5f"
            },
            "marker": {
             "line": {
              "color": "#E5ECF6",
              "width": 0.5
             },
             "pattern": {
              "fillmode": "overlay",
              "size": 10,
              "solidity": 0.2
             }
            },
            "type": "bar"
           }
          ],
          "barpolar": [
           {
            "marker": {
             "line": {
              "color": "#E5ECF6",
              "width": 0.5
             },
             "pattern": {
              "fillmode": "overlay",
              "size": 10,
              "solidity": 0.2
             }
            },
            "type": "barpolar"
           }
          ],
          "carpet": [
           {
            "aaxis": {
             "endlinecolor": "#2a3f5f",
             "gridcolor": "white",
             "linecolor": "white",
             "minorgridcolor": "white",
             "startlinecolor": "#2a3f5f"
            },
            "baxis": {
             "endlinecolor": "#2a3f5f",
             "gridcolor": "white",
             "linecolor": "white",
             "minorgridcolor": "white",
             "startlinecolor": "#2a3f5f"
            },
            "type": "carpet"
           }
          ],
          "choropleth": [
           {
            "colorbar": {
             "outlinewidth": 0,
             "ticks": ""
            },
            "type": "choropleth"
           }
          ],
          "contour": [
           {
            "colorbar": {
             "outlinewidth": 0,
             "ticks": ""
            },
            "colorscale": [
             [
              0,
              "#0d0887"
             ],
             [
              0.1111111111111111,
              "#46039f"
             ],
             [
              0.2222222222222222,
              "#7201a8"
             ],
             [
              0.3333333333333333,
              "#9c179e"
             ],
             [
              0.4444444444444444,
              "#bd3786"
             ],
             [
              0.5555555555555556,
              "#d8576b"
             ],
             [
              0.6666666666666666,
              "#ed7953"
             ],
             [
              0.7777777777777778,
              "#fb9f3a"
             ],
             [
              0.8888888888888888,
              "#fdca26"
             ],
             [
              1,
              "#f0f921"
             ]
            ],
            "type": "contour"
           }
          ],
          "contourcarpet": [
           {
            "colorbar": {
             "outlinewidth": 0,
             "ticks": ""
            },
            "type": "contourcarpet"
           }
          ],
          "heatmap": [
           {
            "colorbar": {
             "outlinewidth": 0,
             "ticks": ""
            },
            "colorscale": [
             [
              0,
              "#0d0887"
             ],
             [
              0.1111111111111111,
              "#46039f"
             ],
             [
              0.2222222222222222,
              "#7201a8"
             ],
             [
              0.3333333333333333,
              "#9c179e"
             ],
             [
              0.4444444444444444,
              "#bd3786"
             ],
             [
              0.5555555555555556,
              "#d8576b"
             ],
             [
              0.6666666666666666,
              "#ed7953"
             ],
             [
              0.7777777777777778,
              "#fb9f3a"
             ],
             [
              0.8888888888888888,
              "#fdca26"
             ],
             [
              1,
              "#f0f921"
             ]
            ],
            "type": "heatmap"
           }
          ],
          "heatmapgl": [
           {
            "colorbar": {
             "outlinewidth": 0,
             "ticks": ""
            },
            "colorscale": [
             [
              0,
              "#0d0887"
             ],
             [
              0.1111111111111111,
              "#46039f"
             ],
             [
              0.2222222222222222,
              "#7201a8"
             ],
             [
              0.3333333333333333,
              "#9c179e"
             ],
             [
              0.4444444444444444,
              "#bd3786"
             ],
             [
              0.5555555555555556,
              "#d8576b"
             ],
             [
              0.6666666666666666,
              "#ed7953"
             ],
             [
              0.7777777777777778,
              "#fb9f3a"
             ],
             [
              0.8888888888888888,
              "#fdca26"
             ],
             [
              1,
              "#f0f921"
             ]
            ],
            "type": "heatmapgl"
           }
          ],
          "histogram": [
           {
            "marker": {
             "pattern": {
              "fillmode": "overlay",
              "size": 10,
              "solidity": 0.2
             }
            },
            "type": "histogram"
           }
          ],
          "histogram2d": [
           {
            "colorbar": {
             "outlinewidth": 0,
             "ticks": ""
            },
            "colorscale": [
             [
              0,
              "#0d0887"
             ],
             [
              0.1111111111111111,
              "#46039f"
             ],
             [
              0.2222222222222222,
              "#7201a8"
             ],
             [
              0.3333333333333333,
              "#9c179e"
             ],
             [
              0.4444444444444444,
              "#bd3786"
             ],
             [
              0.5555555555555556,
              "#d8576b"
             ],
             [
              0.6666666666666666,
              "#ed7953"
             ],
             [
              0.7777777777777778,
              "#fb9f3a"
             ],
             [
              0.8888888888888888,
              "#fdca26"
             ],
             [
              1,
              "#f0f921"
             ]
            ],
            "type": "histogram2d"
           }
          ],
          "histogram2dcontour": [
           {
            "colorbar": {
             "outlinewidth": 0,
             "ticks": ""
            },
            "colorscale": [
             [
              0,
              "#0d0887"
             ],
             [
              0.1111111111111111,
              "#46039f"
             ],
             [
              0.2222222222222222,
              "#7201a8"
             ],
             [
              0.3333333333333333,
              "#9c179e"
             ],
             [
              0.4444444444444444,
              "#bd3786"
             ],
             [
              0.5555555555555556,
              "#d8576b"
             ],
             [
              0.6666666666666666,
              "#ed7953"
             ],
             [
              0.7777777777777778,
              "#fb9f3a"
             ],
             [
              0.8888888888888888,
              "#fdca26"
             ],
             [
              1,
              "#f0f921"
             ]
            ],
            "type": "histogram2dcontour"
           }
          ],
          "mesh3d": [
           {
            "colorbar": {
             "outlinewidth": 0,
             "ticks": ""
            },
            "type": "mesh3d"
           }
          ],
          "parcoords": [
           {
            "line": {
             "colorbar": {
              "outlinewidth": 0,
              "ticks": ""
             }
            },
            "type": "parcoords"
           }
          ],
          "pie": [
           {
            "automargin": true,
            "type": "pie"
           }
          ],
          "scatter": [
           {
            "fillpattern": {
             "fillmode": "overlay",
             "size": 10,
             "solidity": 0.2
            },
            "type": "scatter"
           }
          ],
          "scatter3d": [
           {
            "line": {
             "colorbar": {
              "outlinewidth": 0,
              "ticks": ""
             }
            },
            "marker": {
             "colorbar": {
              "outlinewidth": 0,
              "ticks": ""
             }
            },
            "type": "scatter3d"
           }
          ],
          "scattercarpet": [
           {
            "marker": {
             "colorbar": {
              "outlinewidth": 0,
              "ticks": ""
             }
            },
            "type": "scattercarpet"
           }
          ],
          "scattergeo": [
           {
            "marker": {
             "colorbar": {
              "outlinewidth": 0,
              "ticks": ""
             }
            },
            "type": "scattergeo"
           }
          ],
          "scattergl": [
           {
            "marker": {
             "colorbar": {
              "outlinewidth": 0,
              "ticks": ""
             }
            },
            "type": "scattergl"
           }
          ],
          "scattermapbox": [
           {
            "marker": {
             "colorbar": {
              "outlinewidth": 0,
              "ticks": ""
             }
            },
            "type": "scattermapbox"
           }
          ],
          "scatterpolar": [
           {
            "marker": {
             "colorbar": {
              "outlinewidth": 0,
              "ticks": ""
             }
            },
            "type": "scatterpolar"
           }
          ],
          "scatterpolargl": [
           {
            "marker": {
             "colorbar": {
              "outlinewidth": 0,
              "ticks": ""
             }
            },
            "type": "scatterpolargl"
           }
          ],
          "scatterternary": [
           {
            "marker": {
             "colorbar": {
              "outlinewidth": 0,
              "ticks": ""
             }
            },
            "type": "scatterternary"
           }
          ],
          "surface": [
           {
            "colorbar": {
             "outlinewidth": 0,
             "ticks": ""
            },
            "colorscale": [
             [
              0,
              "#0d0887"
             ],
             [
              0.1111111111111111,
              "#46039f"
             ],
             [
              0.2222222222222222,
              "#7201a8"
             ],
             [
              0.3333333333333333,
              "#9c179e"
             ],
             [
              0.4444444444444444,
              "#bd3786"
             ],
             [
              0.5555555555555556,
              "#d8576b"
             ],
             [
              0.6666666666666666,
              "#ed7953"
             ],
             [
              0.7777777777777778,
              "#fb9f3a"
             ],
             [
              0.8888888888888888,
              "#fdca26"
             ],
             [
              1,
              "#f0f921"
             ]
            ],
            "type": "surface"
           }
          ],
          "table": [
           {
            "cells": {
             "fill": {
              "color": "#EBF0F8"
             },
             "line": {
              "color": "white"
             }
            },
            "header": {
             "fill": {
              "color": "#C8D4E3"
             },
             "line": {
              "color": "white"
             }
            },
            "type": "table"
           }
          ]
         },
         "layout": {
          "annotationdefaults": {
           "arrowcolor": "#2a3f5f",
           "arrowhead": 0,
           "arrowwidth": 1
          },
          "autotypenumbers": "strict",
          "coloraxis": {
           "colorbar": {
            "outlinewidth": 0,
            "ticks": ""
           }
          },
          "colorscale": {
           "diverging": [
            [
             0,
             "#8e0152"
            ],
            [
             0.1,
             "#c51b7d"
            ],
            [
             0.2,
             "#de77ae"
            ],
            [
             0.3,
             "#f1b6da"
            ],
            [
             0.4,
             "#fde0ef"
            ],
            [
             0.5,
             "#f7f7f7"
            ],
            [
             0.6,
             "#e6f5d0"
            ],
            [
             0.7,
             "#b8e186"
            ],
            [
             0.8,
             "#7fbc41"
            ],
            [
             0.9,
             "#4d9221"
            ],
            [
             1,
             "#276419"
            ]
           ],
           "sequential": [
            [
             0,
             "#0d0887"
            ],
            [
             0.1111111111111111,
             "#46039f"
            ],
            [
             0.2222222222222222,
             "#7201a8"
            ],
            [
             0.3333333333333333,
             "#9c179e"
            ],
            [
             0.4444444444444444,
             "#bd3786"
            ],
            [
             0.5555555555555556,
             "#d8576b"
            ],
            [
             0.6666666666666666,
             "#ed7953"
            ],
            [
             0.7777777777777778,
             "#fb9f3a"
            ],
            [
             0.8888888888888888,
             "#fdca26"
            ],
            [
             1,
             "#f0f921"
            ]
           ],
           "sequentialminus": [
            [
             0,
             "#0d0887"
            ],
            [
             0.1111111111111111,
             "#46039f"
            ],
            [
             0.2222222222222222,
             "#7201a8"
            ],
            [
             0.3333333333333333,
             "#9c179e"
            ],
            [
             0.4444444444444444,
             "#bd3786"
            ],
            [
             0.5555555555555556,
             "#d8576b"
            ],
            [
             0.6666666666666666,
             "#ed7953"
            ],
            [
             0.7777777777777778,
             "#fb9f3a"
            ],
            [
             0.8888888888888888,
             "#fdca26"
            ],
            [
             1,
             "#f0f921"
            ]
           ]
          },
          "colorway": [
           "#636efa",
           "#EF553B",
           "#00cc96",
           "#ab63fa",
           "#FFA15A",
           "#19d3f3",
           "#FF6692",
           "#B6E880",
           "#FF97FF",
           "#FECB52"
          ],
          "font": {
           "color": "#2a3f5f"
          },
          "geo": {
           "bgcolor": "white",
           "lakecolor": "white",
           "landcolor": "#E5ECF6",
           "showlakes": true,
           "showland": true,
           "subunitcolor": "white"
          },
          "hoverlabel": {
           "align": "left"
          },
          "hovermode": "closest",
          "mapbox": {
           "style": "light"
          },
          "paper_bgcolor": "white",
          "plot_bgcolor": "#E5ECF6",
          "polar": {
           "angularaxis": {
            "gridcolor": "white",
            "linecolor": "white",
            "ticks": ""
           },
           "bgcolor": "#E5ECF6",
           "radialaxis": {
            "gridcolor": "white",
            "linecolor": "white",
            "ticks": ""
           }
          },
          "scene": {
           "xaxis": {
            "backgroundcolor": "#E5ECF6",
            "gridcolor": "white",
            "gridwidth": 2,
            "linecolor": "white",
            "showbackground": true,
            "ticks": "",
            "zerolinecolor": "white"
           },
           "yaxis": {
            "backgroundcolor": "#E5ECF6",
            "gridcolor": "white",
            "gridwidth": 2,
            "linecolor": "white",
            "showbackground": true,
            "ticks": "",
            "zerolinecolor": "white"
           },
           "zaxis": {
            "backgroundcolor": "#E5ECF6",
            "gridcolor": "white",
            "gridwidth": 2,
            "linecolor": "white",
            "showbackground": true,
            "ticks": "",
            "zerolinecolor": "white"
           }
          },
          "shapedefaults": {
           "line": {
            "color": "#2a3f5f"
           }
          },
          "ternary": {
           "aaxis": {
            "gridcolor": "white",
            "linecolor": "white",
            "ticks": ""
           },
           "baxis": {
            "gridcolor": "white",
            "linecolor": "white",
            "ticks": ""
           },
           "bgcolor": "#E5ECF6",
           "caxis": {
            "gridcolor": "white",
            "linecolor": "white",
            "ticks": ""
           }
          },
          "title": {
           "x": 0.05
          },
          "xaxis": {
           "automargin": true,
           "gridcolor": "white",
           "linecolor": "white",
           "ticks": "",
           "title": {
            "standoff": 15
           },
           "zerolinecolor": "white",
           "zerolinewidth": 2
          },
          "yaxis": {
           "automargin": true,
           "gridcolor": "white",
           "linecolor": "white",
           "ticks": "",
           "title": {
            "standoff": 15
           },
           "zerolinecolor": "white",
           "zerolinewidth": 2
          }
         }
        },
        "title": {
         "text": "Quantidade de Manchetes de Inadimplência Classificadas por Categoria"
        },
        "xaxis": {
         "anchor": "y",
         "domain": [
          0,
          1
         ],
         "title": {
          "text": "manchete"
         }
        },
        "yaxis": {
         "anchor": "x",
         "domain": [
          0,
          1
         ],
         "title": {
          "text": "categoria"
         }
        }
       }
      },
      "text/html": [
       "<div>                        <script type=\"text/javascript\">window.PlotlyConfig = {MathJaxConfig: 'local'};</script>\n",
       "        <script charset=\"utf-8\" src=\"https://cdn.plot.ly/plotly-2.35.2.min.js\"></script>                <div id=\"ab0940fd-73b0-4949-ab66-42be1352c9ba\" class=\"plotly-graph-div\" style=\"height:100%; width:100%;\"></div>            <script type=\"text/javascript\">                                    window.PLOTLYENV=window.PLOTLYENV || {};                                    if (document.getElementById(\"ab0940fd-73b0-4949-ab66-42be1352c9ba\")) {                    Plotly.newPlot(                        \"ab0940fd-73b0-4949-ab66-42be1352c9ba\",                        [{\"alignmentgroup\":\"True\",\"hovertemplate\":\"manchete=%{x}\\u003cbr\\u003ecategoria=%{y}\\u003cextra\\u003e\\u003c\\u002fextra\\u003e\",\"legendgroup\":\"\",\"marker\":{\"color\":\"#636efa\",\"pattern\":{\"shape\":\"\"}},\"name\":\"\",\"offsetgroup\":\"\",\"orientation\":\"h\",\"showlegend\":false,\"textposition\":\"auto\",\"texttemplate\":\"%{x}\",\"x\":[11,112,1],\"xaxis\":\"x\",\"y\":[\"Negativa\",\"Neutra\",\"Positiva\"],\"yaxis\":\"y\",\"type\":\"bar\"}],                        {\"template\":{\"data\":{\"histogram2dcontour\":[{\"type\":\"histogram2dcontour\",\"colorbar\":{\"outlinewidth\":0,\"ticks\":\"\"},\"colorscale\":[[0.0,\"#0d0887\"],[0.1111111111111111,\"#46039f\"],[0.2222222222222222,\"#7201a8\"],[0.3333333333333333,\"#9c179e\"],[0.4444444444444444,\"#bd3786\"],[0.5555555555555556,\"#d8576b\"],[0.6666666666666666,\"#ed7953\"],[0.7777777777777778,\"#fb9f3a\"],[0.8888888888888888,\"#fdca26\"],[1.0,\"#f0f921\"]]}],\"choropleth\":[{\"type\":\"choropleth\",\"colorbar\":{\"outlinewidth\":0,\"ticks\":\"\"}}],\"histogram2d\":[{\"type\":\"histogram2d\",\"colorbar\":{\"outlinewidth\":0,\"ticks\":\"\"},\"colorscale\":[[0.0,\"#0d0887\"],[0.1111111111111111,\"#46039f\"],[0.2222222222222222,\"#7201a8\"],[0.3333333333333333,\"#9c179e\"],[0.4444444444444444,\"#bd3786\"],[0.5555555555555556,\"#d8576b\"],[0.6666666666666666,\"#ed7953\"],[0.7777777777777778,\"#fb9f3a\"],[0.8888888888888888,\"#fdca26\"],[1.0,\"#f0f921\"]]}],\"heatmap\":[{\"type\":\"heatmap\",\"colorbar\":{\"outlinewidth\":0,\"ticks\":\"\"},\"colorscale\":[[0.0,\"#0d0887\"],[0.1111111111111111,\"#46039f\"],[0.2222222222222222,\"#7201a8\"],[0.3333333333333333,\"#9c179e\"],[0.4444444444444444,\"#bd3786\"],[0.5555555555555556,\"#d8576b\"],[0.6666666666666666,\"#ed7953\"],[0.7777777777777778,\"#fb9f3a\"],[0.8888888888888888,\"#fdca26\"],[1.0,\"#f0f921\"]]}],\"heatmapgl\":[{\"type\":\"heatmapgl\",\"colorbar\":{\"outlinewidth\":0,\"ticks\":\"\"},\"colorscale\":[[0.0,\"#0d0887\"],[0.1111111111111111,\"#46039f\"],[0.2222222222222222,\"#7201a8\"],[0.3333333333333333,\"#9c179e\"],[0.4444444444444444,\"#bd3786\"],[0.5555555555555556,\"#d8576b\"],[0.6666666666666666,\"#ed7953\"],[0.7777777777777778,\"#fb9f3a\"],[0.8888888888888888,\"#fdca26\"],[1.0,\"#f0f921\"]]}],\"contourcarpet\":[{\"type\":\"contourcarpet\",\"colorbar\":{\"outlinewidth\":0,\"ticks\":\"\"}}],\"contour\":[{\"type\":\"contour\",\"colorbar\":{\"outlinewidth\":0,\"ticks\":\"\"},\"colorscale\":[[0.0,\"#0d0887\"],[0.1111111111111111,\"#46039f\"],[0.2222222222222222,\"#7201a8\"],[0.3333333333333333,\"#9c179e\"],[0.4444444444444444,\"#bd3786\"],[0.5555555555555556,\"#d8576b\"],[0.6666666666666666,\"#ed7953\"],[0.7777777777777778,\"#fb9f3a\"],[0.8888888888888888,\"#fdca26\"],[1.0,\"#f0f921\"]]}],\"surface\":[{\"type\":\"surface\",\"colorbar\":{\"outlinewidth\":0,\"ticks\":\"\"},\"colorscale\":[[0.0,\"#0d0887\"],[0.1111111111111111,\"#46039f\"],[0.2222222222222222,\"#7201a8\"],[0.3333333333333333,\"#9c179e\"],[0.4444444444444444,\"#bd3786\"],[0.5555555555555556,\"#d8576b\"],[0.6666666666666666,\"#ed7953\"],[0.7777777777777778,\"#fb9f3a\"],[0.8888888888888888,\"#fdca26\"],[1.0,\"#f0f921\"]]}],\"mesh3d\":[{\"type\":\"mesh3d\",\"colorbar\":{\"outlinewidth\":0,\"ticks\":\"\"}}],\"scatter\":[{\"fillpattern\":{\"fillmode\":\"overlay\",\"size\":10,\"solidity\":0.2},\"type\":\"scatter\"}],\"parcoords\":[{\"type\":\"parcoords\",\"line\":{\"colorbar\":{\"outlinewidth\":0,\"ticks\":\"\"}}}],\"scatterpolargl\":[{\"type\":\"scatterpolargl\",\"marker\":{\"colorbar\":{\"outlinewidth\":0,\"ticks\":\"\"}}}],\"bar\":[{\"error_x\":{\"color\":\"#2a3f5f\"},\"error_y\":{\"color\":\"#2a3f5f\"},\"marker\":{\"line\":{\"color\":\"#E5ECF6\",\"width\":0.5},\"pattern\":{\"fillmode\":\"overlay\",\"size\":10,\"solidity\":0.2}},\"type\":\"bar\"}],\"scattergeo\":[{\"type\":\"scattergeo\",\"marker\":{\"colorbar\":{\"outlinewidth\":0,\"ticks\":\"\"}}}],\"scatterpolar\":[{\"type\":\"scatterpolar\",\"marker\":{\"colorbar\":{\"outlinewidth\":0,\"ticks\":\"\"}}}],\"histogram\":[{\"marker\":{\"pattern\":{\"fillmode\":\"overlay\",\"size\":10,\"solidity\":0.2}},\"type\":\"histogram\"}],\"scattergl\":[{\"type\":\"scattergl\",\"marker\":{\"colorbar\":{\"outlinewidth\":0,\"ticks\":\"\"}}}],\"scatter3d\":[{\"type\":\"scatter3d\",\"line\":{\"colorbar\":{\"outlinewidth\":0,\"ticks\":\"\"}},\"marker\":{\"colorbar\":{\"outlinewidth\":0,\"ticks\":\"\"}}}],\"scattermapbox\":[{\"type\":\"scattermapbox\",\"marker\":{\"colorbar\":{\"outlinewidth\":0,\"ticks\":\"\"}}}],\"scatterternary\":[{\"type\":\"scatterternary\",\"marker\":{\"colorbar\":{\"outlinewidth\":0,\"ticks\":\"\"}}}],\"scattercarpet\":[{\"type\":\"scattercarpet\",\"marker\":{\"colorbar\":{\"outlinewidth\":0,\"ticks\":\"\"}}}],\"carpet\":[{\"aaxis\":{\"endlinecolor\":\"#2a3f5f\",\"gridcolor\":\"white\",\"linecolor\":\"white\",\"minorgridcolor\":\"white\",\"startlinecolor\":\"#2a3f5f\"},\"baxis\":{\"endlinecolor\":\"#2a3f5f\",\"gridcolor\":\"white\",\"linecolor\":\"white\",\"minorgridcolor\":\"white\",\"startlinecolor\":\"#2a3f5f\"},\"type\":\"carpet\"}],\"table\":[{\"cells\":{\"fill\":{\"color\":\"#EBF0F8\"},\"line\":{\"color\":\"white\"}},\"header\":{\"fill\":{\"color\":\"#C8D4E3\"},\"line\":{\"color\":\"white\"}},\"type\":\"table\"}],\"barpolar\":[{\"marker\":{\"line\":{\"color\":\"#E5ECF6\",\"width\":0.5},\"pattern\":{\"fillmode\":\"overlay\",\"size\":10,\"solidity\":0.2}},\"type\":\"barpolar\"}],\"pie\":[{\"automargin\":true,\"type\":\"pie\"}]},\"layout\":{\"autotypenumbers\":\"strict\",\"colorway\":[\"#636efa\",\"#EF553B\",\"#00cc96\",\"#ab63fa\",\"#FFA15A\",\"#19d3f3\",\"#FF6692\",\"#B6E880\",\"#FF97FF\",\"#FECB52\"],\"font\":{\"color\":\"#2a3f5f\"},\"hovermode\":\"closest\",\"hoverlabel\":{\"align\":\"left\"},\"paper_bgcolor\":\"white\",\"plot_bgcolor\":\"#E5ECF6\",\"polar\":{\"bgcolor\":\"#E5ECF6\",\"angularaxis\":{\"gridcolor\":\"white\",\"linecolor\":\"white\",\"ticks\":\"\"},\"radialaxis\":{\"gridcolor\":\"white\",\"linecolor\":\"white\",\"ticks\":\"\"}},\"ternary\":{\"bgcolor\":\"#E5ECF6\",\"aaxis\":{\"gridcolor\":\"white\",\"linecolor\":\"white\",\"ticks\":\"\"},\"baxis\":{\"gridcolor\":\"white\",\"linecolor\":\"white\",\"ticks\":\"\"},\"caxis\":{\"gridcolor\":\"white\",\"linecolor\":\"white\",\"ticks\":\"\"}},\"coloraxis\":{\"colorbar\":{\"outlinewidth\":0,\"ticks\":\"\"}},\"colorscale\":{\"sequential\":[[0.0,\"#0d0887\"],[0.1111111111111111,\"#46039f\"],[0.2222222222222222,\"#7201a8\"],[0.3333333333333333,\"#9c179e\"],[0.4444444444444444,\"#bd3786\"],[0.5555555555555556,\"#d8576b\"],[0.6666666666666666,\"#ed7953\"],[0.7777777777777778,\"#fb9f3a\"],[0.8888888888888888,\"#fdca26\"],[1.0,\"#f0f921\"]],\"sequentialminus\":[[0.0,\"#0d0887\"],[0.1111111111111111,\"#46039f\"],[0.2222222222222222,\"#7201a8\"],[0.3333333333333333,\"#9c179e\"],[0.4444444444444444,\"#bd3786\"],[0.5555555555555556,\"#d8576b\"],[0.6666666666666666,\"#ed7953\"],[0.7777777777777778,\"#fb9f3a\"],[0.8888888888888888,\"#fdca26\"],[1.0,\"#f0f921\"]],\"diverging\":[[0,\"#8e0152\"],[0.1,\"#c51b7d\"],[0.2,\"#de77ae\"],[0.3,\"#f1b6da\"],[0.4,\"#fde0ef\"],[0.5,\"#f7f7f7\"],[0.6,\"#e6f5d0\"],[0.7,\"#b8e186\"],[0.8,\"#7fbc41\"],[0.9,\"#4d9221\"],[1,\"#276419\"]]},\"xaxis\":{\"gridcolor\":\"white\",\"linecolor\":\"white\",\"ticks\":\"\",\"title\":{\"standoff\":15},\"zerolinecolor\":\"white\",\"automargin\":true,\"zerolinewidth\":2},\"yaxis\":{\"gridcolor\":\"white\",\"linecolor\":\"white\",\"ticks\":\"\",\"title\":{\"standoff\":15},\"zerolinecolor\":\"white\",\"automargin\":true,\"zerolinewidth\":2},\"scene\":{\"xaxis\":{\"backgroundcolor\":\"#E5ECF6\",\"gridcolor\":\"white\",\"linecolor\":\"white\",\"showbackground\":true,\"ticks\":\"\",\"zerolinecolor\":\"white\",\"gridwidth\":2},\"yaxis\":{\"backgroundcolor\":\"#E5ECF6\",\"gridcolor\":\"white\",\"linecolor\":\"white\",\"showbackground\":true,\"ticks\":\"\",\"zerolinecolor\":\"white\",\"gridwidth\":2},\"zaxis\":{\"backgroundcolor\":\"#E5ECF6\",\"gridcolor\":\"white\",\"linecolor\":\"white\",\"showbackground\":true,\"ticks\":\"\",\"zerolinecolor\":\"white\",\"gridwidth\":2}},\"shapedefaults\":{\"line\":{\"color\":\"#2a3f5f\"}},\"annotationdefaults\":{\"arrowcolor\":\"#2a3f5f\",\"arrowhead\":0,\"arrowwidth\":1},\"geo\":{\"bgcolor\":\"white\",\"landcolor\":\"#E5ECF6\",\"subunitcolor\":\"white\",\"showland\":true,\"showlakes\":true,\"lakecolor\":\"white\"},\"title\":{\"x\":0.05},\"mapbox\":{\"style\":\"light\"}}},\"xaxis\":{\"anchor\":\"y\",\"domain\":[0.0,1.0],\"title\":{\"text\":\"manchete\"}},\"yaxis\":{\"anchor\":\"x\",\"domain\":[0.0,1.0],\"title\":{\"text\":\"categoria\"}},\"legend\":{\"tracegroupgap\":0},\"title\":{\"text\":\"Quantidade de Manchetes de Inadimpl\\u00eancia Classificadas por Categoria\"},\"barmode\":\"relative\"},                        {\"responsive\": true}                    )                };                            </script>        </div>"
      ],
      "text/plain": [
       "Figure({\n",
       "    'data': [{'alignmentgroup': 'True',\n",
       "              'hovertemplate': 'manchete=%{x}<br>categoria=%{y}<extra></extra>',\n",
       "              'legendgroup': '',\n",
       "              'marker': {'color': '#636efa', 'pattern': {'shape': ''}},\n",
       "              'name': '',\n",
       "              'offsetgroup': '',\n",
       "              'orientation': 'h',\n",
       "              'showlegend': False,\n",
       "              'textposition': 'auto',\n",
       "              'texttemplate': '%{x}',\n",
       "              'type': 'bar',\n",
       "              'x': array([ 11, 112,   1]),\n",
       "              'xaxis': 'x',\n",
       "              'y': array(['Negativa', 'Neutra', 'Positiva'], dtype=object),\n",
       "              'yaxis': 'y'}],\n",
       "    'layout': {'barmode': 'relative',\n",
       "               'legend': {'tracegroupgap': 0},\n",
       "               'template': '...',\n",
       "               'title': {'text': 'Quantidade de Manchetes de Inadimplência Classificadas por Categoria'},\n",
       "               'xaxis': {'anchor': 'y', 'domain': [0.0, 1.0], 'title': {'text': 'manchete'}},\n",
       "               'yaxis': {'anchor': 'x', 'domain': [0.0, 1.0], 'title': {'text': 'categoria'}}}\n",
       "})"
      ]
     },
     "execution_count": 85,
     "metadata": {},
     "output_type": "execute_result"
    }
   ],
   "source": [
    "df_grouped = df.groupby('categoria', as_index=False).count()\n",
    "\n",
    "fig = px.bar(df_grouped,\n",
    "            x = 'manchete',\n",
    "            y = 'categoria',\n",
    "            text_auto=True,\n",
    "            title='Quantidade de Manchetes de Inadimplência Classificadas por Categoria'\n",
    "            )\n",
    "\n",
    "fig"
   ]
  },
  {
   "cell_type": "markdown",
   "metadata": {},
   "source": [
    "# Exercício 5:"
   ]
  },
  {
   "cell_type": "code",
   "execution_count": 8,
   "metadata": {},
   "outputs": [],
   "source": [
    "import pandas as pd\n",
    "\n",
    "df_script = pd.read_csv('data/simpsons_script_lines.csv', low_memory=False)\n",
    "df_episodes = pd.read_csv('data/simpsons_episodes.csv', low_memory=False)\n",
    "df_characters = pd.read_csv('data/simpsons_characters.csv', low_memory=False)\n",
    "df_locations = pd.read_csv('data/simpsons_locations.csv', low_memory=False)\n",
    "\n",
    "df_script.set_index('id', inplace=True)\n",
    "df_characters['id'] = df_characters['id'].astype(str)\n",
    "\n",
    "df_characters = df_characters.add_prefix('character_')\n",
    "df_locations = df_locations.add_prefix('location_')\n",
    "df_episodes = df_episodes.add_prefix('episode_')\n",
    "\n",
    "data = (\n",
    "    df_script.merge(df_episodes, left_on='episode_id', right_on='episode_id')\n",
    "             .merge(df_characters, left_on='character_id', right_on='character_id', how='left')\n",
    "             .merge(df_locations, left_on='location_id', right_on='location_id', how='left')\n",
    ")\n",
    "\n",
    "\n",
    "assert data.shape[0] == df_script.shape[0]"
   ]
  },
  {
   "cell_type": "code",
   "execution_count": 26,
   "metadata": {},
   "outputs": [
    {
     "data": {
      "text/html": [
       "<div>\n",
       "<style scoped>\n",
       "    .dataframe tbody tr th:only-of-type {\n",
       "        vertical-align: middle;\n",
       "    }\n",
       "\n",
       "    .dataframe tbody tr th {\n",
       "        vertical-align: top;\n",
       "    }\n",
       "\n",
       "    .dataframe thead th {\n",
       "        text-align: right;\n",
       "    }\n",
       "</style>\n",
       "<table border=\"1\" class=\"dataframe\">\n",
       "  <thead>\n",
       "    <tr style=\"text-align: right;\">\n",
       "      <th></th>\n",
       "      <th>episode_id</th>\n",
       "      <th>number</th>\n",
       "      <th>raw_text</th>\n",
       "      <th>timestamp_in_ms</th>\n",
       "      <th>speaking_line</th>\n",
       "      <th>character_id</th>\n",
       "      <th>location_id</th>\n",
       "      <th>raw_character_text</th>\n",
       "      <th>raw_location_text</th>\n",
       "      <th>spoken_words</th>\n",
       "      <th>...</th>\n",
       "      <th>episode_season</th>\n",
       "      <th>episode_title</th>\n",
       "      <th>episode_us_viewers_in_millions</th>\n",
       "      <th>episode_video_url</th>\n",
       "      <th>episode_views</th>\n",
       "      <th>character_name</th>\n",
       "      <th>character_normalized_name</th>\n",
       "      <th>character_gender</th>\n",
       "      <th>location_name</th>\n",
       "      <th>location_normalized_name</th>\n",
       "    </tr>\n",
       "  </thead>\n",
       "  <tbody>\n",
       "    <tr>\n",
       "      <th>0</th>\n",
       "      <td>32</td>\n",
       "      <td>209</td>\n",
       "      <td>Miss Hoover: No, actually, it was a little of ...</td>\n",
       "      <td>848000</td>\n",
       "      <td>true</td>\n",
       "      <td>464</td>\n",
       "      <td>3.0</td>\n",
       "      <td>Miss Hoover</td>\n",
       "      <td>Springfield Elementary School</td>\n",
       "      <td>No, actually, it was a little of both. Sometim...</td>\n",
       "      <td>...</td>\n",
       "      <td>2</td>\n",
       "      <td>Lisa's Substitute</td>\n",
       "      <td>17.7</td>\n",
       "      <td>http://www.simpsonsworld.com/video/288011331912</td>\n",
       "      <td>52770.0</td>\n",
       "      <td>Miss Hoover</td>\n",
       "      <td>miss hoover</td>\n",
       "      <td>f</td>\n",
       "      <td>Springfield Elementary School</td>\n",
       "      <td>springfield elementary school</td>\n",
       "    </tr>\n",
       "    <tr>\n",
       "      <th>1</th>\n",
       "      <td>32</td>\n",
       "      <td>210</td>\n",
       "      <td>Lisa Simpson: (NEAR TEARS) Where's Mr. Bergstrom?</td>\n",
       "      <td>856000</td>\n",
       "      <td>true</td>\n",
       "      <td>9</td>\n",
       "      <td>3.0</td>\n",
       "      <td>Lisa Simpson</td>\n",
       "      <td>Springfield Elementary School</td>\n",
       "      <td>Where's Mr. Bergstrom?</td>\n",
       "      <td>...</td>\n",
       "      <td>2</td>\n",
       "      <td>Lisa's Substitute</td>\n",
       "      <td>17.7</td>\n",
       "      <td>http://www.simpsonsworld.com/video/288011331912</td>\n",
       "      <td>52770.0</td>\n",
       "      <td>Lisa Simpson</td>\n",
       "      <td>lisa simpson</td>\n",
       "      <td>f</td>\n",
       "      <td>Springfield Elementary School</td>\n",
       "      <td>springfield elementary school</td>\n",
       "    </tr>\n",
       "    <tr>\n",
       "      <th>2</th>\n",
       "      <td>32</td>\n",
       "      <td>211</td>\n",
       "      <td>Miss Hoover: I don't know. Although I'd sure l...</td>\n",
       "      <td>856000</td>\n",
       "      <td>true</td>\n",
       "      <td>464</td>\n",
       "      <td>3.0</td>\n",
       "      <td>Miss Hoover</td>\n",
       "      <td>Springfield Elementary School</td>\n",
       "      <td>I don't know. Although I'd sure like to talk t...</td>\n",
       "      <td>...</td>\n",
       "      <td>2</td>\n",
       "      <td>Lisa's Substitute</td>\n",
       "      <td>17.7</td>\n",
       "      <td>http://www.simpsonsworld.com/video/288011331912</td>\n",
       "      <td>52770.0</td>\n",
       "      <td>Miss Hoover</td>\n",
       "      <td>miss hoover</td>\n",
       "      <td>f</td>\n",
       "      <td>Springfield Elementary School</td>\n",
       "      <td>springfield elementary school</td>\n",
       "    </tr>\n",
       "    <tr>\n",
       "      <th>3</th>\n",
       "      <td>32</td>\n",
       "      <td>212</td>\n",
       "      <td>Lisa Simpson: That life is worth living.</td>\n",
       "      <td>864000</td>\n",
       "      <td>true</td>\n",
       "      <td>9</td>\n",
       "      <td>3.0</td>\n",
       "      <td>Lisa Simpson</td>\n",
       "      <td>Springfield Elementary School</td>\n",
       "      <td>That life is worth living.</td>\n",
       "      <td>...</td>\n",
       "      <td>2</td>\n",
       "      <td>Lisa's Substitute</td>\n",
       "      <td>17.7</td>\n",
       "      <td>http://www.simpsonsworld.com/video/288011331912</td>\n",
       "      <td>52770.0</td>\n",
       "      <td>Lisa Simpson</td>\n",
       "      <td>lisa simpson</td>\n",
       "      <td>f</td>\n",
       "      <td>Springfield Elementary School</td>\n",
       "      <td>springfield elementary school</td>\n",
       "    </tr>\n",
       "    <tr>\n",
       "      <th>4</th>\n",
       "      <td>32</td>\n",
       "      <td>213</td>\n",
       "      <td>Edna Krabappel-Flanders: The polls will be ope...</td>\n",
       "      <td>864000</td>\n",
       "      <td>true</td>\n",
       "      <td>40</td>\n",
       "      <td>3.0</td>\n",
       "      <td>Edna Krabappel-Flanders</td>\n",
       "      <td>Springfield Elementary School</td>\n",
       "      <td>The polls will be open from now until the end ...</td>\n",
       "      <td>...</td>\n",
       "      <td>2</td>\n",
       "      <td>Lisa's Substitute</td>\n",
       "      <td>17.7</td>\n",
       "      <td>http://www.simpsonsworld.com/video/288011331912</td>\n",
       "      <td>52770.0</td>\n",
       "      <td>Edna Krabappel-Flanders</td>\n",
       "      <td>edna krabappel-flanders</td>\n",
       "      <td>f</td>\n",
       "      <td>Springfield Elementary School</td>\n",
       "      <td>springfield elementary school</td>\n",
       "    </tr>\n",
       "  </tbody>\n",
       "</table>\n",
       "<p>5 rows × 30 columns</p>\n",
       "</div>"
      ],
      "text/plain": [
       "   episode_id  number                                           raw_text  \\\n",
       "0          32     209  Miss Hoover: No, actually, it was a little of ...   \n",
       "1          32     210  Lisa Simpson: (NEAR TEARS) Where's Mr. Bergstrom?   \n",
       "2          32     211  Miss Hoover: I don't know. Although I'd sure l...   \n",
       "3          32     212           Lisa Simpson: That life is worth living.   \n",
       "4          32     213  Edna Krabappel-Flanders: The polls will be ope...   \n",
       "\n",
       "  timestamp_in_ms speaking_line character_id  location_id  \\\n",
       "0          848000          true          464          3.0   \n",
       "1          856000          true            9          3.0   \n",
       "2          856000          true          464          3.0   \n",
       "3          864000          true            9          3.0   \n",
       "4          864000          true           40          3.0   \n",
       "\n",
       "        raw_character_text              raw_location_text  \\\n",
       "0              Miss Hoover  Springfield Elementary School   \n",
       "1             Lisa Simpson  Springfield Elementary School   \n",
       "2              Miss Hoover  Springfield Elementary School   \n",
       "3             Lisa Simpson  Springfield Elementary School   \n",
       "4  Edna Krabappel-Flanders  Springfield Elementary School   \n",
       "\n",
       "                                        spoken_words  ... episode_season  \\\n",
       "0  No, actually, it was a little of both. Sometim...  ...              2   \n",
       "1                             Where's Mr. Bergstrom?  ...              2   \n",
       "2  I don't know. Although I'd sure like to talk t...  ...              2   \n",
       "3                         That life is worth living.  ...              2   \n",
       "4  The polls will be open from now until the end ...  ...              2   \n",
       "\n",
       "       episode_title episode_us_viewers_in_millions  \\\n",
       "0  Lisa's Substitute                           17.7   \n",
       "1  Lisa's Substitute                           17.7   \n",
       "2  Lisa's Substitute                           17.7   \n",
       "3  Lisa's Substitute                           17.7   \n",
       "4  Lisa's Substitute                           17.7   \n",
       "\n",
       "                                 episode_video_url  episode_views  \\\n",
       "0  http://www.simpsonsworld.com/video/288011331912        52770.0   \n",
       "1  http://www.simpsonsworld.com/video/288011331912        52770.0   \n",
       "2  http://www.simpsonsworld.com/video/288011331912        52770.0   \n",
       "3  http://www.simpsonsworld.com/video/288011331912        52770.0   \n",
       "4  http://www.simpsonsworld.com/video/288011331912        52770.0   \n",
       "\n",
       "            character_name  character_normalized_name character_gender  \\\n",
       "0              Miss Hoover                miss hoover                f   \n",
       "1             Lisa Simpson               lisa simpson                f   \n",
       "2              Miss Hoover                miss hoover                f   \n",
       "3             Lisa Simpson               lisa simpson                f   \n",
       "4  Edna Krabappel-Flanders    edna krabappel-flanders                f   \n",
       "\n",
       "                   location_name       location_normalized_name  \n",
       "0  Springfield Elementary School  springfield elementary school  \n",
       "1  Springfield Elementary School  springfield elementary school  \n",
       "2  Springfield Elementary School  springfield elementary school  \n",
       "3  Springfield Elementary School  springfield elementary school  \n",
       "4  Springfield Elementary School  springfield elementary school  \n",
       "\n",
       "[5 rows x 30 columns]"
      ]
     },
     "execution_count": 26,
     "metadata": {},
     "output_type": "execute_result"
    }
   ],
   "source": [
    "data.head()"
   ]
  },
  {
   "cell_type": "code",
   "execution_count": 9,
   "metadata": {},
   "outputs": [],
   "source": [
    "import tiktoken\n",
    "\n",
    "# Função para estimar número de tokens\n",
    "def estimar_tokens(texto):\n",
    "    encoder = tiktoken.get_encoding(\"cl100k_base\")  # Exemplo de codificação\n",
    "    # encoder = tiktoken.get_encoding(\"gpt-4o\")  # Exemplo de codificação\n",
    "    tokens = encoder.encode(texto)\n",
    "    return tokens"
   ]
  },
  {
   "cell_type": "code",
   "execution_count": 10,
   "metadata": {},
   "outputs": [
    {
     "name": "stdout",
     "output_type": "stream",
     "text": [
      "(132087, 31)\n",
      "0         2\n",
      "1         2\n",
      "2         2\n",
      "3         2\n",
      "4         2\n",
      "         ..\n",
      "158266    2\n",
      "158267    2\n",
      "158268    2\n",
      "158269    2\n",
      "158270    2\n",
      "Name: episode_season, Length: 132087, dtype: int64\n"
     ]
    }
   ],
   "source": [
    "X = data.dropna(subset='normalized_text').copy()\n",
    "X['n_tokens'] = X.normalized_text.fillna('').apply(lambda x: len(estimar_tokens(x)))\n",
    "print(X.shape)\n",
    "\n",
    "print(X['episode_season'])"
   ]
  },
  {
   "cell_type": "markdown",
   "metadata": {},
   "source": [
    "## Média por episódio"
   ]
  },
  {
   "cell_type": "code",
   "execution_count": 11,
   "metadata": {},
   "outputs": [
    {
     "name": "stdout",
     "output_type": "stream",
     "text": [
      "A quantidade média de tokens por episódio é de 2607 tokens\n"
     ]
    }
   ],
   "source": [
    "episodios_tokens = X.groupby('episode_id', as_index=False)['n_tokens'].sum()\n",
    "episodios_tokens['n_tokens'].mean()\n",
    "print(f'A quantidade média de tokens por episódio é de {episodios_tokens['n_tokens'].mean():.0f} tokens')"
   ]
  },
  {
   "cell_type": "markdown",
   "metadata": {},
   "source": [
    "## Média por Temporada"
   ]
  },
  {
   "cell_type": "code",
   "execution_count": 12,
   "metadata": {},
   "outputs": [
    {
     "name": "stdout",
     "output_type": "stream",
     "text": [
      "A quantidade média de tokens por temporada é de 56551 tokens\n"
     ]
    }
   ],
   "source": [
    "temporadas_tokens = X.groupby('episode_season', as_index=False)['n_tokens'].sum()\n",
    "temporadas_tokens['n_tokens'].mean()\n",
    "print(f'A quantidade média de tokens por temporada é de {temporadas_tokens['n_tokens'].mean():.0f} tokens')"
   ]
  },
  {
   "cell_type": "markdown",
   "metadata": {},
   "source": [
    "## Temporada com mais Tokens"
   ]
  },
  {
   "cell_type": "code",
   "execution_count": 14,
   "metadata": {},
   "outputs": [
    {
     "name": "stdout",
     "output_type": "stream",
     "text": [
      "A temporada que teve mais tokens foi 6    7\n",
      "Name: episode_season, dtype: int64, com um total de 6    70418\n",
      "Name: n_tokens, dtype: int64 tokens.\n"
     ]
    }
   ],
   "source": [
    "temporadas_tokens = X.groupby('episode_season', as_index=False)['n_tokens'].sum()\n",
    "temporada_max_token = temporadas_tokens[temporadas_tokens['n_tokens'] == temporadas_tokens['n_tokens'].max()]\n",
    "temporada = temporada_max_token['episode_season']\n",
    "tokens_seas = temporada_max_token['n_tokens']\n",
    "print(f'A temporada que teve mais tokens foi {temporada}, com um total de {tokens_seas} tokens.')"
   ]
  },
  {
   "cell_type": "markdown",
   "metadata": {},
   "source": [
    "## Episódio com mais tokens"
   ]
  },
  {
   "cell_type": "code",
   "execution_count": 15,
   "metadata": {},
   "outputs": [
    {
     "name": "stdout",
     "output_type": "stream",
     "text": [
      "A episodio que teve mais tokens foi 48    49\n",
      "Name: episode_id, dtype: int64, com um total de 48    3454\n",
      "Name: n_tokens, dtype: int64 tokens.\n"
     ]
    }
   ],
   "source": [
    "episodios_tokens = X.groupby('episode_id', as_index=False)['n_tokens'].sum()\n",
    "episodio_max_token = episodios_tokens[episodios_tokens['n_tokens'] == episodios_tokens['n_tokens'].max()]\n",
    "episodio = episodio_max_token['episode_id']\n",
    "tokens_epis = episodio_max_token['n_tokens']\n",
    "print(f'A episodio que teve mais tokens foi {episodio}, com um total de {tokens_epis} tokens.')"
   ]
  },
  {
   "cell_type": "markdown",
   "metadata": {},
   "source": [
    "# Exercício 6"
   ]
  },
  {
   "cell_type": "code",
   "execution_count": 16,
   "metadata": {},
   "outputs": [
    {
     "name": "stderr",
     "output_type": "stream",
     "text": [
      "d:\\oitavo_trimestre_infnet\\dr4_tp3\\Lib\\site-packages\\tqdm\\auto.py:21: TqdmWarning: IProgress not found. Please update jupyter and ipywidgets. See https://ipywidgets.readthedocs.io/en/stable/user_install.html\n",
      "  from .autonotebook import tqdm as notebook_tqdm\n"
     ]
    }
   ],
   "source": [
    "import google.generativeai as genai\n",
    "from google.generativeai.types import HarmCategory, HarmBlockThreshold\n",
    "\n",
    "examples = {\n",
    "    'Positive': 'Hey, thanks for your vote, man',\n",
    "    'Neutral': 'That was our wedding',\n",
    "    'Negative': 'Oh, please',\n",
    "}\n",
    "\n",
    "class ChunkClassificator():\n",
    "    def __init__(self, model_name, apikey, text, window_size, overlap_size):\n",
    "        self.text = text\n",
    "        if isinstance(self.text, str):\n",
    "            self.text = [self.text]\n",
    "        self.window_size = window_size\n",
    "        self.overlap_size = overlap_size\n",
    "        # Aplicacao dos chunks\n",
    "        self.chunks = self.__text_to_chunks()\n",
    "        self.model = self.__create_model(apikey, model_name)\n",
    "\n",
    "\n",
    "    def __create_model(self, apikey, model_name):\n",
    "        genai.configure(api_key=apikey)\n",
    "        self.prompt_base = f\"\"\"\n",
    "        You are a classificator from the \"The Simpsons\" show.\n",
    "        You will receive the #conversations# from real episodes in the format:\n",
    "        <location>, <character> said: <character line>\n",
    "        \n",
    "        Analyze the following excerpts of dialogue from The Simpsons and classify the sentiment of each as Positive, Neutral, or Negative.\n",
    "\n",
    "        Consider the tone, context, and emotional undertones of the text to determine the appropriate category:\n",
    "\n",
    "        Positive: Expresses happiness, optimism, humor, or an overall positive attitude.\n",
    "        Neutral: Is factual, ambiguous, or lacks strong emotional content.\n",
    "        Negative: Conveys sadness, anger, frustration, or any negative sentiment.\n",
    "        For each excerpt, respond with the sentiment category (Positive, Neutral, or Negative)\n",
    "\n",
    "        Check this examples to help you to define the category:\n",
    "        {examples}\n",
    "\n",
    "        \"\"\"\n",
    "        safety_settings={\n",
    "            HarmCategory.HARM_CATEGORY_HATE_SPEECH: HarmBlockThreshold.BLOCK_NONE,\n",
    "            HarmCategory.HARM_CATEGORY_HARASSMENT: HarmBlockThreshold.BLOCK_NONE,\n",
    "            HarmCategory.HARM_CATEGORY_SEXUALLY_EXPLICIT: HarmBlockThreshold.BLOCK_NONE,\n",
    "            HarmCategory.HARM_CATEGORY_DANGEROUS_CONTENT: HarmBlockThreshold.BLOCK_NONE,\n",
    "        }\n",
    "        generation_config = {\n",
    "            'temperature': 0.2,\n",
    "            'top_p': 0.8,\n",
    "            'top_k': 20,\n",
    "            'max_output_tokens': 1000\n",
    "        }\n",
    "        return genai.GenerativeModel(\n",
    "            model_name,\n",
    "            system_instruction=self.prompt_base,\n",
    "            generation_config = generation_config,\n",
    "            safety_settings=safety_settings\n",
    "        )\n",
    "\n",
    "\n",
    "    \n",
    "    def __text_to_chunks(self):       \n",
    "        n = self.window_size  # Tamanho de cada chunk\n",
    "        m = self.overlap_size  # overlap entre chunks\n",
    "        return [self.text[i:i+n] for i in range(0, len(self.text), n-m)]\n",
    "\n",
    "\n",
    "    def __create_chunk_prompt(self, chunk):\n",
    "        episode_lines = '\\n'.join(chunk)\n",
    "        prompt = f\"\"\"\n",
    "        #subtitles#\n",
    "        {episode_lines}\n",
    "        ######\n",
    "        Summarize it.\n",
    "        \"\"\"\n",
    "        return prompt\n",
    "        \n",
    "    \n",
    "    def __summarize_chunks(self):\n",
    "        # Loop over chunks\n",
    "        chunk_summaries = []\n",
    "        for i, chunk in enumerate(self.chunks):\n",
    "            print(f'Summarizing chunk {i+1} from {len(self.chunks)}')\n",
    "            # Create prompt\n",
    "            prompt = self.__create_chunk_prompt(chunk)\n",
    "            response = self.model.generate_content(prompt)\n",
    "            # Apendar resposta do chunk\n",
    "            chunk_summaries.append(response.text)\n",
    "            \n",
    "            # if i == 4: break\n",
    "\n",
    "        return chunk_summaries\n",
    "\n",
    "\n",
    "    def summarize(self):\n",
    "        print('Summarizing text')\n",
    "        # Chamar o sumario dos chunks\n",
    "        self.chunk_summaries = self.__summarize_chunks()\n",
    "        # Prompt final\n",
    "        summaries = '- ' + '\\n- '.join(self.chunk_summaries)\n",
    "        prompt = f\"\"\"\n",
    "        You are a classificator from the \"The Simpsons\" show.\n",
    "        Analyze the following excerpts of dialogue from The Simpsons and classify the sentiment of each as Positive, Neutral, or Negative.\n",
    "\n",
    "        Consider the tone, context, and emotional undertones of the text to determine the appropriate category:\n",
    "\n",
    "        Positive: Expresses happiness, optimism, humor, or an overall positive attitude.\n",
    "        Neutral: Is factual, ambiguous, or lacks strong emotional content.\n",
    "        Negative: Conveys sadness, anger, frustration, or any negative sentiment.\n",
    "        For each excerpt, respond with the sentiment category (Positive, Neutral, or Negative)\n",
    "        {summaries}\n",
    "        ######\n",
    "        \"\"\"\n",
    "        print('Final summarization')\n",
    "        response = self.model.generate_content(prompt)\n",
    "        \n",
    "        return response.text"
   ]
  },
  {
   "cell_type": "code",
   "execution_count": 30,
   "metadata": {},
   "outputs": [
    {
     "name": "stdout",
     "output_type": "stream",
     "text": [
      "Summarizing text\n",
      "Summarizing chunk 1 from 8\n",
      "Summarizing chunk 2 from 8\n",
      "Summarizing chunk 3 from 8\n",
      "Summarizing chunk 4 from 8\n",
      "Summarizing chunk 5 from 8\n",
      "Summarizing chunk 6 from 8\n",
      "Summarizing chunk 7 from 8\n",
      "Summarizing chunk 8 from 8\n",
      "Final summarization\n"
     ]
    }
   ],
   "source": [
    "episode_season = 5\n",
    "episode_id = 92\n",
    "X = (data[(data.episode_season == episode_season) &\n",
    "          (data.episode_id == episode_id)].sort_values('number')\n",
    ")\n",
    "\n",
    "X['line'] = (X['location_normalized_name'].fillna('') + ', ' + \n",
    "             X['character_normalized_name'].fillna('') + ' said: ' + \n",
    "             X['normalized_text'].fillna('')\n",
    ")\n",
    "\n",
    "import os\n",
    "from dotenv import load_dotenv\n",
    "load_dotenv('../.env')\n",
    "\n",
    "summarizer = ChunkClassificator(\n",
    "    model_name = \"gemini-1.5-flash\",\n",
    "    apikey = os.environ[\"GEMINI_API\"],\n",
    "    text = X['line'].tolist(),\n",
    "    window_size = 40,\n",
    "    overlap_size = 5\n",
    ")\n",
    "\n",
    "episode_summary = summarizer.summarize()"
   ]
  },
  {
   "cell_type": "code",
   "execution_count": 36,
   "metadata": {},
   "outputs": [
    {
     "name": "stdout",
     "output_type": "stream",
     "text": [
      "Here's a sentiment analysis of the provided Simpsons dialogue excerpts, followed by a summary:\n",
      "\n",
      "**Springfield Police Station:**\n",
      "\n",
      "* \"another one lou 723 evergreen terrace\" - **Neutral** (statement of fact)\n",
      "* \"well there doesnt seem to be any pattern yet but if i take this one and move it here and move these over here hello it almost looks like an arrow\" - **Neutral** (observation, slightly humorous)\n",
      "* \"hey look chief its pointing right at this police station\" - **Neutral** (observation)\n",
      "* \"lets get outta here\" - **Negative** (fear, urgency)\n",
      "* \"when cat burglaries start can mass murders be far behind this reporter isnt saying that the burglar is an inhuman monster like the wolfman but he very well could be\" - **Negative** (fear-mongering, dramatic)\n",
      "* \"so professor would you say its time for everyone to panic\" - **Neutral** (question)\n",
      "* \"yes i would kent\" - **Negative** (confirmation of fear)\n",
      "* \"ladies and gentlemen ladies and gentlemen please we have a major break in the case we recovered the burglars handkerchief from one of the crime scenes now one sniff of this baby and our tracking dog will be hot on his trail gosh look at me im sweating like a pig here\" - **Positive** (false bravado, but presented positively)\n",
      "* \"ahhh aw man thats better\" - **Positive** (relief)\n",
      "* \"alright get the scent boy come on get the scent now kill go on\" - **Neutral** (command)\n",
      "* \"ow my jugular any questions\" - **Negative** (pain)\n",
      "* \"well as you can see when the burglar trips the alarm the house raises from its foundations and runs down the street and around a corner to safety\" - **Neutral** (factual explanation)\n",
      "* \"well the the real humans wont uh wont burn quite so fast there\" - **Neutral** (factual, slightly dark humor)\n",
      "\n",
      "\n",
      "**Suburban Springfield Street:**\n",
      "\n",
      "* \"cool high-tech security system\" - **Positive** (impressed)\n",
      "* \"alright free laserium all the colors of the bow man\" - **Positive** (excited)\n",
      "* \"my cataracts are gone i can see again all the beauty of nat\" - **Positive** (joyful)\n",
      "* \"im blind oh well easy come easy go\" - **Neutral** (acceptance, slightly negative undertone)\n",
      "\n",
      "\n",
      "**Springfield Retirement Castle:**\n",
      "\n",
      "* \"its the cat burglar please dont kill me\" - **Negative** (fear)\n",
      "* \"abe can i use your ointment\" - **Neutral** (request)\n",
      "* \"oh its you molloy alright but this time clean off the applicator\" - **Neutral** (slightly annoyed)\n",
      "\n",
      "\n",
      "**Kwik-E-Mart:**\n",
      "\n",
      "* \"thank you for coming ill see you in hell\" - **Negative** (sarcastic)\n",
      "\n",
      "\n",
      "**Simpson Home:**\n",
      "\n",
      "* \"alright these are our new family security rules be home before dark and make sure youre not followed lock all doors and windows\" - **Neutral** (instruction)\n",
      "* \"and dont take candy from strangers\" - **Neutral** (instruction)\n",
      "* \"marge theyre only human\" - **Neutral** (comment)\n",
      "* \"whats the point of all these precautions ive already lost the only thing that matters to me\" - **Negative** (sadness, loss)\n",
      "* \"oh lisa stop pining for your saxophone i got you another instrument\" - **Positive** (attempt at comfort)\n",
      "* \"what this jug\" - **Neutral** (question)\n",
      "* \"lisa never ever stop in the middle of a hoe-down\" - **Neutral** (instruction, slightly absurd)\n",
      "* \"thank you\" - **Positive** (grateful)\n",
      "* \"you know lisa music helps daddy think\" - **Positive** (positive association)\n",
      "\n",
      "\n",
      "**Flanders Home:**\n",
      "\n",
      "* \"welcome neighbors since the police cant seem to get off their dufferoonies to do something about this burglarino i think its time we start our own neighborhood watch arooni\" - **Neutral** (slightly positive in its proactive approach)\n",
      "* \"now who should lead the group\" - **Neutral** (question)\n",
      "* \"you\" - **Neutral** (suggestion)\n",
      "* \"yeah flanders flanders flanders\" - **Positive** (shows group support)\n",
      "* \"i dont really have very much experience but ill be---\" - **Neutral** (hesitation)\n",
      "* \"someone else\" - **Negative** (dismissive)\n",
      "* \"yeah someone else someone else someone else\" - **Negative** (reflecting Moe's sentiment)\n",
      "* \"im someone else\" - **Neutral** (statement)\n",
      "* \"hes right\" - **Neutral** (\n"
     ]
    }
   ],
   "source": [
    "print(episode_summary)"
   ]
  },
  {
   "cell_type": "markdown",
   "metadata": {},
   "source": [
    "# Exercício 7"
   ]
  },
  {
   "cell_type": "code",
   "execution_count": null,
   "metadata": {},
   "outputs": [
    {
     "name": "stdout",
     "output_type": "stream",
     "text": [
      "519\n"
     ]
    }
   ],
   "source": [
    "analise_ep_11_seas_5 = \"\"\"\n",
    "O episódio começa relatando uma série de roubos em Springfield, incluindo o desaparecimento do amado saxofone de Lisa, a cidade se vê em alerta. O bandido ousadamente anuncia seu próximo alvo: um valioso diamante raro que está em exibição no museu de Springfield. O roubo está programado para ocorrer à meia-noite. Determinados a evitar o crime e capturar o ladrão, Homer, junto com outros homens da cidade, se organiza para montar uma vigília no museu. Eles acreditam que sua presença será suficiente para frustrar os planos do criminoso.\n",
    "No entanto, apesar de seus esforços, o ladrão consegue escapar com o diamante sob o nariz de todos. O único que testemunha o momento da fuga é Abe Simpson. Ele observa cuidadosamente os movimentos do ladrão e, ao juntar algumas pistas, começa a desconfiar que o bandido possa ser um dos idosos que reside no Asilo de Springfield. Entusiasmado com sua teoria, Abe compartilha suas suspeitas com Homer. Contudo, Homer, como de costume, não leva o pai a sério e descarta a ideia como mais uma das histórias malucas de Abe.\n",
    "Enquanto isso, a polícia de Springfield inicia uma investigação para rastrear o ladrão e recuperar os itens roubados. Paralelamente, Abe resolve agir por conta própria, visitando o asilo e observando atentamente seus moradores. Depois de analisar os comportamentos suspeitos de um dos idosos, Abe descobre a verdade: o ladrão é, de fato, um residente do asilo. Ele repassa a informação para a polícia, que age rapidamente e prende o criminoso. Durante o interrogatório, o ladrão confessa seus crimes e devolve os objetos roubados, incluindo o saxofone de Lisa e o diamante raro.\n",
    "O criminoso então anuncia que há uma grande quantia em dinheiro enterrada em Springfield, porém isso foi uma mera distração para que ele conseguisse fugir, já que os moradores da cidade focaram na busca pelo dinheiro.\n",
    "\"\"\"\n",
    "\n",
    "print(len(estimar_tokens(analise_ep_11_seas_5)))\n"
   ]
  },
  {
   "cell_type": "code",
   "execution_count": 27,
   "metadata": {},
   "outputs": [],
   "source": [
    "dados_ep92 = X[X['episode_id'] == 92]\n",
    "dados_ep92['raw_text'].to_csv('data/dados_ep_92.csv')"
   ]
  }
 ],
 "metadata": {
  "kernelspec": {
   "display_name": "dr4_tp3",
   "language": "python",
   "name": "python3"
  },
  "language_info": {
   "codemirror_mode": {
    "name": "ipython",
    "version": 3
   },
   "file_extension": ".py",
   "mimetype": "text/x-python",
   "name": "python",
   "nbconvert_exporter": "python",
   "pygments_lexer": "ipython3",
   "version": "3.12.5"
  }
 },
 "nbformat": 4,
 "nbformat_minor": 2
}
